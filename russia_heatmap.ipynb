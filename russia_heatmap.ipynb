{
 "cells": [
  {
   "cell_type": "code",
   "execution_count": null,
   "id": "initial_id",
   "metadata": {
    "collapsed": true
   },
   "outputs": [],
   "source": [
    "import geopandas as gpd\n",
    "import pandas as pd\n",
    "import difflib\n",
    "import matplotlib.pyplot as plt"
   ]
  },
  {
   "cell_type": "code",
   "execution_count": null,
   "outputs": [],
   "source": [
    "\n",
    "SHAPEFILE = r'F:\\Programming\\Julya\\russia_heatmap\\RF\\russiageojson.shp'\n",
    "# Read shapefile using Geopandas\n",
    "geo_df = gpd.read_file(SHAPEFILE)[[\"name_ru\", \"ref\", \"geometry\"]]"
   ],
   "metadata": {
    "collapsed": false
   },
   "id": "13ac1ccc98c4309e"
  },
  {
   "cell_type": "code",
   "execution_count": null,
   "outputs": [],
   "source": [
    "from shapely import MultiPolygon\n",
    "from shapely.geometry import LineString\n",
    "from shapely.ops import split\n",
    "from shapely.affinity import translate\n",
    "from shapely.geometry import GeometryCollection\n",
    "\n",
    "def shift_map(mymap, shift):\n",
    "    shift -= 180\n",
    "    moved_map = []\n",
    "    splitted_map = []\n",
    "    border = LineString([(shift,90),(shift,-90)])\n",
    "    for row in mymap[\"geometry\"]:\n",
    "        splitted_map.append(split(row, border))\n",
    "    for element in splitted_map:\n",
    "        items = list(element.geoms)\n",
    "        if len(items) == 1:\n",
    "            item = items[0]\n",
    "            minx, miny, maxx, maxy = item.bounds\n",
    "            if minx >= shift:\n",
    "                moved_map.append(translate(item, xoff=-180-shift))\n",
    "            else:\n",
    "                moved_map.append(translate(item, xoff=180-shift))\n",
    "            continue\n",
    "        multipolygon = []\n",
    "        for item in items:\n",
    "            minx, miny, maxx, maxy = item.bounds\n",
    "            if minx >= shift:\n",
    "                multipolygon.append(translate(item, xoff=-180-shift))\n",
    "            else:\n",
    "                multipolygon.append(translate(item, xoff=180-shift))\n",
    "        moved_map.append(MultiPolygon(multipolygon))\n",
    "    return moved_map\n",
    "geo_df['geometry'] = shift_map(geo_df, 100)\n",
    "geo_df.plot(figsize=(20, 30), edgecolor='white', linewidth=1, color='lightblue')"
   ],
   "metadata": {
    "collapsed": false
   },
   "id": "436d7091debcd7fc"
  },
  {
   "cell_type": "code",
   "execution_count": null,
   "outputs": [],
   "source": [
    "colormap_data = pd.read_csv(r'F:\\Programming\\Julya\\russia_heatmap\\RF\\colormap.csv')\n",
    "colormap_data['Названия строк'] = colormap_data['Названия строк'].replace(\n",
    "    {\n",
    "        'Республика Тыва': 'Тыва',\n",
    "        'Удмуртская Республика': 'Удмуртия',\n",
    "        'Чеченская Республика': 'Чечня',\n",
    "        'Чувашская Республика - Чувашия': \"Чувашия\"\n",
    "    }\n",
    ")\n",
    "colormap_data['Процент'] = colormap_data['Процент'].str.replace(\"%\", '').str.replace(',', '.').astype(float)\n",
    "colormap_data"
   ],
   "metadata": {
    "collapsed": false
   },
   "id": "5f09975c7503f862"
  },
  {
   "cell_type": "code",
   "execution_count": null,
   "outputs": [],
   "source": [
    "target_region_names = list(geo_df['name_ru'])\n",
    "colormap_region_names = list(colormap_data['Названия строк'])\n",
    "target_region_names.sort()\n",
    "colormap_region_names.sort()"
   ],
   "metadata": {
    "collapsed": false
   },
   "id": "1a554bdf84d58f5b"
  },
  {
   "cell_type": "code",
   "execution_count": null,
   "outputs": [],
   "source": [
    "target_map = {target: next(iter(difflib.get_close_matches(target, colormap_region_names, cutoff=0.5)), None) for target in target_region_names}\n",
    "geo_df['name_ru'].replace(target_map, inplace=True)\n",
    "merged_df = pd.merge(left=geo_df, right=colormap_data, left_on='name_ru', right_on='Названия строк', how=\"right\")\n",
    "merged_df"
   ],
   "metadata": {
    "collapsed": false
   },
   "id": "b2cb7d0d71200d93"
  },
  {
   "cell_type": "code",
   "execution_count": null,
   "outputs": [],
   "source": [
    "col = 'Процент'\n",
    "source = 'Source: relataly.com \\nGrowth Rate = New cases / All previous cases'\n",
    "vmin = merged_df[col].min()\n",
    "vmax = merged_df[col].max()\n",
    "cmap = 'viridis'"
   ],
   "metadata": {
    "collapsed": false
   },
   "id": "1b1441f0bd7c08b7"
  },
  {
   "cell_type": "code",
   "execution_count": null,
   "outputs": [],
   "source": [
    "fig, ax = plt.subplots(1, figsize=(20, 7))\n",
    "merged_df.plot(column=col, ax=ax, edgecolor='0.8', linewidth=1, cmap=cmap)\n",
    "ax.annotate(source, xy=(0.1, .08), xycoords='figure fraction', horizontalalignment='left', \n",
    "            verticalalignment='bottom', fontsize=10)\n",
    "# Create colorbar as a legend\n",
    "sm = plt.cm.ScalarMappable(norm=plt.Normalize(vmin=vmin, vmax=vmax), cmap=cmap)\n",
    "cbaxes = fig.add_axes([0.35, 0.25, 0.01, 0.5])\n",
    "cbar = fig.colorbar(sm, cax=cbaxes)"
   ],
   "metadata": {
    "collapsed": false
   },
   "id": "503f4ada2640e571"
  },
  {
   "cell_type": "code",
   "execution_count": null,
   "outputs": [],
   "source": [],
   "metadata": {
    "collapsed": false
   },
   "id": "16e3729b0a7b566"
  }
 ],
 "metadata": {
  "kernelspec": {
   "display_name": "Python 3",
   "language": "python",
   "name": "python3"
  },
  "language_info": {
   "codemirror_mode": {
    "name": "ipython",
    "version": 2
   },
   "file_extension": ".py",
   "mimetype": "text/x-python",
   "name": "python",
   "nbconvert_exporter": "python",
   "pygments_lexer": "ipython2",
   "version": "2.7.6"
  }
 },
 "nbformat": 4,
 "nbformat_minor": 5
}
